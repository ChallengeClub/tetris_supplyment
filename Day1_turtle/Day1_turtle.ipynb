{
 "cells": [
  {
   "attachments": {},
   "cell_type": "markdown",
   "metadata": {},
   "source": [
    "# Day1 ようこそpythonテトリスへ\n",
    "今回はturtleを通じてpythonに触れてみましょう。"
   ]
  },
  {
   "attachments": {},
   "cell_type": "markdown",
   "metadata": {},
   "source": [
    "## 1-0 ライブラリのインストール\n",
    "pythonでは、「import 〇〇」の形式でライブラリをインストールします。\n",
    "今回はturtleをインストールしましょう。"
   ]
  },
  {
   "cell_type": "code",
   "execution_count": 2,
   "metadata": {},
   "outputs": [],
   "source": [
    "import turtle"
   ]
  },
  {
   "attachments": {},
   "cell_type": "markdown",
   "metadata": {},
   "source": [
    "## 1-1 直線を描く"
   ]
  },
  {
   "cell_type": "code",
   "execution_count": 12,
   "metadata": {},
   "outputs": [],
   "source": [
    "turtle.setup(width=500, height=500)\n",
    "turtle.forward(200)\n",
    "turtle.done()"
   ]
  },
  {
   "attachments": {},
   "cell_type": "markdown",
   "metadata": {},
   "source": [
    "Q. 線の長さを変えてみましょう  \n",
    "turtle.forwardを使って描いてみましょう。"
   ]
  },
  {
   "cell_type": "code",
   "execution_count": null,
   "metadata": {},
   "outputs": [],
   "source": [
    "turtle.setup(width=500, height=500)\n",
    "#------------ここから--------------\n",
    "\n",
    "#------------ここまで--------------\n",
    "turtle.done()"
   ]
  },
  {
   "attachments": {},
   "cell_type": "markdown",
   "metadata": {},
   "source": [
    "## 1-2 向きを変える\n"
   ]
  },
  {
   "cell_type": "code",
   "execution_count": 16,
   "metadata": {},
   "outputs": [],
   "source": [
    "turtle.setup(width=500, height=500)\n",
    "turtle.forward(200)\n",
    "turtle.left(90)\n",
    "turtle.forward(200)\n",
    "turtle.done()"
   ]
  },
  {
   "attachments": {},
   "cell_type": "markdown",
   "metadata": {},
   "source": [
    "### Q. 正方形を作ってみましょう  \n",
    "一辺の長さは200とします。"
   ]
  },
  {
   "cell_type": "code",
   "execution_count": null,
   "metadata": {},
   "outputs": [],
   "source": [
    "turtle.setup(width=500, height=500)\n",
    "#------------ここから--------------\n",
    "\n",
    "#------------ここまで--------------\n",
    "turtle.done()"
   ]
  },
  {
   "attachments": {},
   "cell_type": "markdown",
   "metadata": {},
   "source": [
    "## 1-3 for文について確認\n",
    "今回の正方形の例ですが、一個一個描くのは大変だったのではないでしょうか？  \n",
    "よくよく見ると同じコードを繰り返していることが多いかもしれないです。  \n",
    "この「何回もコピペする」ことを楽して書くために、for文の使い方を見ていきましょう。"
   ]
  },
  {
   "cell_type": "code",
   "execution_count": 20,
   "metadata": {},
   "outputs": [],
   "source": [
    "turtle.setup(width=500, height=500)\n",
    "for i in range(4):\n",
    "    turtle.forward(200)\n",
    "    turtle.left(90)\n",
    "turtle.done()"
   ]
  },
  {
   "attachments": {},
   "cell_type": "markdown",
   "metadata": {},
   "source": [
    "Q. 正三角形を描いてみましょう  \n",
    "一辺の長さは200とします。  \n",
    "for文を使ってかいてみましょう。"
   ]
  },
  {
   "cell_type": "code",
   "execution_count": null,
   "metadata": {},
   "outputs": [],
   "source": [
    "turtle.setup(width=500, height=500)\n",
    "#------------ここから--------------\n",
    "\n",
    "#------------ここまで--------------\n",
    "turtle.done()"
   ]
  },
  {
   "attachments": {},
   "cell_type": "markdown",
   "metadata": {},
   "source": [
    "Q. ★を描いてみましょう  \n",
    "一辺の長さは200とします。  \n",
    "for文を使って描いてみましょう。"
   ]
  },
  {
   "cell_type": "code",
   "execution_count": null,
   "metadata": {},
   "outputs": [],
   "source": [
    "turtle.setup(width=500, height=500)\n",
    "#------------ここから--------------\n",
    "\n",
    "#------------ここまで--------------\n",
    "turtle.done()"
   ]
  },
  {
   "attachments": {},
   "cell_type": "markdown",
   "metadata": {},
   "source": [
    "Q. 正N角形を描いてみましょう  \n",
    "Nが変数として与えられますので、Nを使った式で描いてみましょう。\n",
    "一辺の長さは50にしましょう。"
   ]
  },
  {
   "cell_type": "code",
   "execution_count": null,
   "metadata": {},
   "outputs": [],
   "source": [
    "turtle.setup(width=500, height=500)\n",
    "N = 10\n",
    "#------------ここから--------------\n",
    "\n",
    "#------------ここまで--------------\n",
    "turtle.done()"
   ]
  },
  {
   "attachments": {},
   "cell_type": "markdown",
   "metadata": {},
   "source": [
    "## 1-4 関数\n",
    "上の問題でNは2行目に描かれていましたが、"
   ]
  },
  {
   "cell_type": "code",
   "execution_count": null,
   "metadata": {},
   "outputs": [],
   "source": [
    "def drawRegularNgon(N):\n",
    "    if N<=0:\n",
    "        print(\"Invalid value!\")\n",
    "        return\n",
    "\n",
    "    turtle.setup(width=500, height=500)\n",
    "    for i in range(N):\n",
    "        turtle.forward(50)\n",
    "        turtle.left(360/N)\n",
    "    turtle.done()"
   ]
  },
  {
   "cell_type": "code",
   "execution_count": null,
   "metadata": {},
   "outputs": [],
   "source": [
    "drawRegularNgon(10)"
   ]
  },
  {
   "attachments": {},
   "cell_type": "markdown",
   "metadata": {},
   "source": [
    "さらに、長さも指定したいとなった場合にも対応できるように、以下のパターンも考えてみましょう。"
   ]
  },
  {
   "cell_type": "code",
   "execution_count": 26,
   "metadata": {},
   "outputs": [],
   "source": [
    "def drawRegularNgon(N, length=50):\n",
    "    if N<=0:\n",
    "        print(\"Invalid value!\")\n",
    "        return\n",
    "\n",
    "    turtle.setup(width=500, height=500)\n",
    "    for i in range(N):\n",
    "        turtle.forward(length)\n",
    "        turtle.left(360/N)\n",
    "    turtle.done()"
   ]
  },
  {
   "cell_type": "code",
   "execution_count": 31,
   "metadata": {},
   "outputs": [],
   "source": [
    "drawRegularNgon(52,10)"
   ]
  },
  {
   "attachments": {},
   "cell_type": "markdown",
   "metadata": {},
   "source": [
    "## 1-4 今後の予定\n",
    "pythonには慣れましたでしょうか？  \n",
    "今後の予定\n",
    "- 配列の使い方を実験してみる\n",
    "- クラスの使い方を調べてみる\n",
    "  \n",
    "また、余裕がありもう少し予習したい方はtetris評価サーバに問題があるので、そちらにチャレンジしてみましょう。\n"
   ]
  },
  {
   "attachments": {},
   "cell_type": "markdown",
   "metadata": {},
   "source": [
    "## 1-EX おまけ\n",
    "再帰関数をつかうと、こんな図形も描けます。\n",
    "再帰(=深さ優先探索、DFS)は、テトリスでいう「3手先まで考える」といった場合に使われます。\n",
    "今時点ではこんなこともできるんだー位に思っておいて大丈夫です。"
   ]
  },
  {
   "cell_type": "code",
   "execution_count": 18,
   "metadata": {},
   "outputs": [],
   "source": [
    "def drawMountainLine(length,dim):\n",
    "    if dim == 0:\n",
    "        turtle.forward(length)\n",
    "        turtle.left(60)\n",
    "        turtle.forward(length)\n",
    "        turtle.right(120)\n",
    "        turtle.forward(length)\n",
    "        turtle.left(60)\n",
    "        turtle.forward(length)\n",
    "    else:\n",
    "        drawMountainLine(length/3,dim-1)\n",
    "        turtle.left(60)\n",
    "        drawMountainLine(length/3,dim-1)\n",
    "        turtle.right(120)\n",
    "        drawMountainLine(length/3,dim-1)\n",
    "        turtle.left(60)\n",
    "        drawMountainLine(length/3,dim-1)\n",
    "\n",
    "turtle.tracer(False) #亀ちゃんの軌跡を追うと重くなるため、今回は追わない設定に\n",
    "turtle.setup(width=1500, height=700)\n",
    "turtle.up()\n",
    "turtle.backward(500)\n",
    "turtle.down()\n",
    "\n",
    "drawMountainLine(300,4)\n",
    "\n",
    "turtle.done()"
   ]
  },
  {
   "cell_type": "code",
   "execution_count": 6,
   "metadata": {},
   "outputs": [],
   "source": []
  }
 ],
 "metadata": {
  "kernelspec": {
   "display_name": "Python 3",
   "language": "python",
   "name": "python3"
  },
  "language_info": {
   "codemirror_mode": {
    "name": "ipython",
    "version": 3
   },
   "file_extension": ".py",
   "mimetype": "text/x-python",
   "name": "python",
   "nbconvert_exporter": "python",
   "pygments_lexer": "ipython3",
   "version": "3.10.11"
  },
  "orig_nbformat": 4
 },
 "nbformat": 4,
 "nbformat_minor": 2
}
